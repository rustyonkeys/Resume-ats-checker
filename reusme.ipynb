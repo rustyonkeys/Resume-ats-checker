{
 "cells": [
  {
   "cell_type": "code",
   "execution_count": 4,
   "id": "b6a86a49",
   "metadata": {},
   "outputs": [
    {
     "name": "stdout",
     "output_type": "stream",
     "text": [
      "Collecting pdfplumber\n",
      "  Using cached pdfplumber-0.11.7-py3-none-any.whl.metadata (42 kB)\n",
      "Collecting pytesseract\n",
      "  Using cached pytesseract-0.3.13-py3-none-any.whl.metadata (11 kB)\n",
      "Collecting pdf2image\n",
      "  Using cached pdf2image-1.17.0-py3-none-any.whl.metadata (6.2 kB)\n",
      "INFO: pip is looking at multiple versions of pdfplumber to determine which version is compatible with other requirements. This could take a while.\n",
      "Collecting pdfplumber\n",
      "  Using cached pdfplumber-0.11.6-py3-none-any.whl.metadata (42 kB)\n",
      "  Using cached pdfplumber-0.11.5-py3-none-any.whl.metadata (42 kB)\n",
      "Collecting pdfminer.six==20231228 (from pdfplumber)\n",
      "  Using cached pdfminer.six-20231228-py3-none-any.whl.metadata (4.2 kB)\n",
      "Collecting Pillow>=9.1 (from pdfplumber)\n",
      "  Using cached pillow-10.4.0-cp38-cp38-win_amd64.whl.metadata (9.3 kB)\n",
      "Collecting pypdfium2>=4.18.0 (from pdfplumber)\n",
      "  Using cached pypdfium2-4.30.0-py3-none-win_amd64.whl.metadata (48 kB)\n",
      "Requirement already satisfied: charset-normalizer>=2.0.0 in c:\\programdata\\anaconda3\\lib\\site-packages (from pdfminer.six==20231228->pdfplumber) (3.3.2)\n",
      "Collecting cryptography>=36.0.0 (from pdfminer.six==20231228->pdfplumber)\n",
      "  Using cached cryptography-46.0.1-cp38-abi3-win_amd64.whl.metadata (5.7 kB)\n",
      "Collecting packaging>=21.3 (from pytesseract)\n",
      "  Using cached packaging-25.0-py3-none-any.whl.metadata (3.3 kB)\n",
      "Note: you may need to restart the kernel to use updated packages.Requirement already satisfied: cffi>=1.14 in c:\\programdata\\anaconda3\\lib\\site-packages (from cryptography>=36.0.0->pdfminer.six==20231228->pdfplumber) (1.14.0)\n",
      "Collecting typing-extensions>=4.13.2 (from cryptography>=36.0.0->pdfminer.six==20231228->pdfplumber)\n"
     ]
    },
    {
     "name": "stderr",
     "output_type": "stream",
     "text": [
      "WARNING: Ignoring invalid distribution - (c:\\programdata\\anaconda3\\lib\\site-packages)\n",
      "WARNING: Ignoring invalid distribution -atchdog (c:\\programdata\\anaconda3\\lib\\site-packages)\n",
      "WARNING: Ignoring invalid distribution -cipy (c:\\programdata\\anaconda3\\lib\\site-packages)\n",
      "WARNING: Ignoring invalid distribution -equests (c:\\programdata\\anaconda3\\lib\\site-packages)\n",
      "WARNING: Ignoring invalid distribution -ip (c:\\programdata\\anaconda3\\lib\\site-packages)\n",
      "WARNING: Ignoring invalid distribution -oblib (c:\\programdata\\anaconda3\\lib\\site-packages)\n",
      "WARNING: Error parsing dependencies of pyodbc: Invalid version: '4.0.0-unsupported'\n",
      "WARNING: Ignoring invalid distribution - (c:\\programdata\\anaconda3\\lib\\site-packages)\n",
      "WARNING: Ignoring invalid distribution -atchdog (c:\\programdata\\anaconda3\\lib\\site-packages)\n",
      "WARNING: Ignoring invalid distribution -cipy (c:\\programdata\\anaconda3\\lib\\site-packages)\n",
      "WARNING: Ignoring invalid distribution -equests (c:\\programdata\\anaconda3\\lib\\site-packages)\n",
      "WARNING: Ignoring invalid distribution -ip (c:\\programdata\\anaconda3\\lib\\site-packages)\n",
      "WARNING: Ignoring invalid distribution -oblib (c:\\programdata\\anaconda3\\lib\\site-packages)\n",
      "  WARNING: The script pypdfium2.exe is installed in 'C:\\Users\\Shreyas\\AppData\\Roaming\\Python\\Python38\\Scripts' which is not on PATH.\n",
      "  Consider adding this directory to PATH or, if you prefer to suppress this warning, use --no-warn-script-location.\n",
      "  WARNING: The script pytesseract.exe is installed in 'C:\\Users\\Shreyas\\AppData\\Roaming\\Python\\Python38\\Scripts' which is not on PATH.\n",
      "  Consider adding this directory to PATH or, if you prefer to suppress this warning, use --no-warn-script-location.\n",
      "  WARNING: The script pdfplumber.exe is installed in 'C:\\Users\\Shreyas\\AppData\\Roaming\\Python\\Python38\\Scripts' which is not on PATH.\n",
      "  Consider adding this directory to PATH or, if you prefer to suppress this warning, use --no-warn-script-location.\n",
      "ERROR: pip's dependency resolver does not currently take into account all the packages that are installed. This behaviour is the source of the following dependency conflicts.\n",
      "spyder 4.1.4 requires pyqt5<5.13; python_version >= \"3\", which is not installed.\n",
      "spyder 4.1.4 requires pyqtwebengine<5.13; python_version >= \"3\", which is not installed.\n",
      "streamlit 1.39.0 requires packaging<25,>=20, but you have packaging 25.0 which is incompatible.\n"
     ]
    },
    {
     "name": "stdout",
     "output_type": "stream",
     "text": [
      "\n",
      "  Using cached typing_extensions-4.13.2-py3-none-any.whl.metadata (3.0 kB)\n",
      "Requirement already satisfied: pycparser in c:\\programdata\\anaconda3\\lib\\site-packages (from cffi>=1.14->cryptography>=36.0.0->pdfminer.six==20231228->pdfplumber) (2.20)\n",
      "Using cached pdfplumber-0.11.5-py3-none-any.whl (59 kB)\n",
      "Using cached pdfminer.six-20231228-py3-none-any.whl (5.6 MB)\n",
      "Using cached pytesseract-0.3.13-py3-none-any.whl (14 kB)\n",
      "Using cached pdf2image-1.17.0-py3-none-any.whl (11 kB)\n",
      "Using cached packaging-25.0-py3-none-any.whl (66 kB)\n",
      "Using cached pillow-10.4.0-cp38-cp38-win_amd64.whl (2.6 MB)\n",
      "Using cached pypdfium2-4.30.0-py3-none-win_amd64.whl (2.9 MB)\n",
      "Using cached cryptography-46.0.1-cp38-abi3-win_amd64.whl (3.5 MB)\n",
      "Using cached typing_extensions-4.13.2-py3-none-any.whl (45 kB)\n",
      "Installing collected packages: typing-extensions, pypdfium2, Pillow, packaging, pytesseract, pdf2image, cryptography, pdfminer.six, pdfplumber\n",
      "  Attempting uninstall: typing-extensions\n",
      "    Found existing installation: typing_extensions 4.12.2\n",
      "    Uninstalling typing_extensions-4.12.2:\n",
      "      Successfully uninstalled typing_extensions-4.12.2\n",
      "Successfully installed Pillow-10.4.0 cryptography-46.0.1 packaging-25.0 pdf2image-1.17.0 pdfminer.six-20231228 pdfplumber-0.11.5 pypdfium2-4.30.0 pytesseract-0.3.13 typing-extensions-4.13.2\n"
     ]
    }
   ],
   "source": [
    "%pip install --user pdfplumber pytesseract pdf2image"
   ]
  },
  {
   "cell_type": "code",
   "execution_count": 7,
   "id": "5c7a67cc",
   "metadata": {},
   "outputs": [
    {
     "name": "stderr",
     "output_type": "stream",
     "text": [
      "C:\\Users\\Shreyas\\AppData\\Roaming\\Python\\Python38\\site-packages\\pandas\\core\\computation\\expressions.py:20: UserWarning: Pandas requires version '2.7.3' or newer of 'numexpr' (version '2.7.1' currently installed).\n",
      "  from pandas.core.computation.check import NUMEXPR_INSTALLED\n"
     ]
    }
   ],
   "source": [
    "import pdfplumber\n",
    "import pytesseract\n",
    "from pdf2image import convert_from_path"
   ]
  },
  {
   "cell_type": "code",
   "execution_count": 6,
   "id": "6b607e9b",
   "metadata": {},
   "outputs": [
    {
     "name": "stdout",
     "output_type": "stream",
     "text": [
      "Name: pdfplumber\n",
      "Version: 0.11.5\n",
      "Summary: Plumb a PDF for detailed information about each char, rectangle, and line.\n",
      "Home-page: https://github.com/jsvine/pdfplumber\n",
      "Note: you may need to restart the kernel to use updated packages.\n",
      "Author: Jeremy Singer-Vine\n"
     ]
    },
    {
     "name": "stderr",
     "output_type": "stream",
     "text": [
      "WARNING: Ignoring invalid distribution - (c:\\programdata\\anaconda3\\lib\\site-packages)\n",
      "WARNING: Ignoring invalid distribution -atchdog (c:\\programdata\\anaconda3\\lib\\site-packages)\n",
      "WARNING: Ignoring invalid distribution -cipy (c:\\programdata\\anaconda3\\lib\\site-packages)\n",
      "WARNING: Ignoring invalid distribution -equests (c:\\programdata\\anaconda3\\lib\\site-packages)\n",
      "WARNING: Ignoring invalid distribution -ip (c:\\programdata\\anaconda3\\lib\\site-packages)\n",
      "WARNING: Ignoring invalid distribution -oblib (c:\\programdata\\anaconda3\\lib\\site-packages)\n"
     ]
    },
    {
     "name": "stdout",
     "output_type": "stream",
     "text": [
      "Author-email: jsvine@gmail.com\n",
      "License: \n",
      "Location: c:\\users\\shreyas\\appdata\\roaming\\python\\python38\\site-packages\n",
      "Requires: pdfminer.six, Pillow, pypdfium2\n",
      "Required-by: \n"
     ]
    }
   ],
   "source": [
    "%pip show pdfplumber"
   ]
  },
  {
   "cell_type": "code",
   "execution_count": 28,
   "id": "812aa5d9",
   "metadata": {},
   "outputs": [
    {
     "name": "stdout",
     "output_type": "stream",
     "text": [
      "Kirthi .G. Shetty\n",
      "+91 8451864346 | Maharashtra , India | kirthishetty20156@ gmail.com | LinkedIn | Hackerrank | GitHub\n",
      "SKILLS\n",
      "● Languages: Python, R, Flutter, Dart\n",
      "● Data Tools: Power BI, Jupyter Notebook, Google Colab, NLP\n",
      "● Data Science & Analytics: Machine Learning, Statistical Analysis, Data Wrangling, Data Visualization, Data\n",
      "Storytelling, Deep Learning\n",
      "● App Development:State Management, Clean Architecture, Firestore, Git(Version Control), Local Storage,API\n",
      "PROJECT\n",
      "AtWork – Geolocation-Based Attendance Tracking App: (Java, Firebase, Google Maps API)\n",
      "● Developed a mobile application for universities and organizations to streamline attendance marking using\n",
      "GPS-based geofencing and biometric fingerprint authentication.\n",
      "● Implemented role-based access control for Admin and Staff, enabling admin to add employees, view/download\n",
      "attendance reports, and track presence in real time.\n",
      "● Integrated Google Maps API to visualize geofenced areas and automatically mark attendance when inside the\n",
      "predefined zone.\n",
      "● Planned Features: Full bonus points leave system, face recognition login, push notification reminders, analytics\n",
      "dashboard with charts and graphs.\n",
      "Project Manager: (Flutter, Dart, Firebase-MVP Completed, Ongoing)\n",
      "● Built an Android mobile app to manage projects and add tasks with CRUD functionality using Flutter for UI\n",
      "and Firebase Firestore for backend data storage.\n",
      "● Designed an intuitive UI for task creation, updates, and deletion with state management, and implemented a\n",
      "linear progress graph to visualize completed projects over total projects.\n",
      "● Planned Features: Project progress graphs, GitHub account integration for issue tracking, adding achievement\n",
      "badges and streaks.\n",
      "Movie Recommendation System:\n",
      "● Developed a movie recommendation model based on the dataset of 5000 movies that suggests movies based on\n",
      "user’s previously watched content and also suggests movies with similar content.\n",
      "● Combined key text features into a single tag for each movie, then applied tokenization, stop word removal, and\n",
      "stemming using NLTK's Porter Stemmer for text normalization.\n",
      "● Engineered movie feature vectors with Bag-of-Words and cosine similarity to recommend similar titles based on\n",
      "user preferences using python’s scikit-learn library.\n",
      "Hindi Text Summarization Using NLP(Extractive Summarization):\n",
      "● Developed a Hindi text summarization system that processes Hindi text and generates concise summaries,\n",
      "optimizing readability and selecting most important sentences which will help in saving reader’s time.\n",
      "● Leveraged NLTK and custom regex for text cleaning, applied sentence/word tokenization, and used\n",
      "scikit-learn’s Tf-idf Vectorizer to score and select top sentences for generating concise summaries.\n",
      "● Designed and implemented a user-friendly HTML frontend allowing users to input Hindi text, view\n",
      "character/word limits, see output length, and display the generated summary in real time, demonstrating a\n",
      "complete end-to-end NLP workflow.\n",
      "EXTRACURRICULAR ACTIVITIES\n",
      "● Participated in the Smart India Hackathon 2024 as part of a 6-member team, developing the AtWork mobile\n",
      "application — a geolocation-based attendance tracking system.\n",
      "● TATA Data Visualisation: Empowering Business with Effective Insights on Forage. - January 2025\n",
      "EDUCATION\n",
      "2022 - 2026 Pillai College of Engineering\n",
      "BACHELOR OF ENGINEERING IN INFORMATION TECHNOLOGY | CGPA - 7.0\n",
      "● Key Modules: Machine Intelligence, Deep Learning, Data Science, Android Development, OS, DBMS\n"
     ]
    }
   ],
   "source": [
    "def extract_text_from_pdf(pdf_path):\n",
    "    text = \"\"\n",
    "    with pdfplumber.open(pdf_path) as pdf:\n",
    "        for page in pdf.pages:\n",
    "            text += page.extract_text() or \"\"\n",
    "    return text\n",
    "\n",
    "resume_text  = extract_text_from_pdf(\"Kirthi Resume.pdf\")\n",
    "print(resume_text)"
   ]
  },
  {
   "cell_type": "code",
   "execution_count": 29,
   "id": "77cc96da",
   "metadata": {},
   "outputs": [
    {
     "name": "stdout",
     "output_type": "stream",
     "text": [
      "kirthi .g. shetty +91 8451864346 | maharashtra , india | kirthishetty20156@ gmail.com | linkedin | hackerrank | github skills ● languages: python, r, flutter, dart ● data tools: power bi, jupyter notebook, google colab, nlp ● data science & analytics: machine learning, statistical analysis, data wrangling, data visualization, data storytelling, deep learning ● app development:state management, clean architecture, firestore, git(version control), local storage,api project atwork – geolocation-based attendance tracking app: (java, firebase, google maps api) ● developed a mobile application for universities and organizations to streamline attendance marking using gps-based geofencing and biometric fingerprint authentication. ● implemented role-based access control for admin and staff, enabling admin to add employees, view/download attendance reports, and track presence in real time. ● integrated google maps api to visualize geofenced areas and automatically mark attendance when inside the predefined zone. ● planned features: full bonus points leave system, face recognition login, push notification reminders, analytics dashboard with charts and graphs. project manager: (flutter, dart, firebase-mvp completed, ongoing) ● built an android mobile app to manage projects and add tasks with crud functionality using flutter for ui and firebase firestore for backend data storage. ● designed an intuitive ui for task creation, updates, and deletion with state management, and implemented a linear progress graph to visualize completed projects over total projects. ● planned features: project progress graphs, github account integration for issue tracking, adding achievement badges and streaks. movie recommendation system: ● developed a movie recommendation model based on the dataset of 5000 movies that suggests movies based on user’s previously watched content and also suggests movies with similar content. ● combined key text features into a single tag for each movie, then applied tokenization, stop word removal, and stemming using nltk's porter stemmer for text normalization. ● engineered movie feature vectors with bag-of-words and cosine similarity to recommend similar titles based on user preferences using python’s scikit-learn library. hindi text summarization using nlp(extractive summarization): ● developed a hindi text summarization system that processes hindi text and generates concise summaries, optimizing readability and selecting most important sentences which will help in saving reader’s time. ● leveraged nltk and custom regex for text cleaning, applied sentence/word tokenization, and used scikit-learn’s tf-idf vectorizer to score and select top sentences for generating concise summaries. ● designed and implemented a user-friendly html frontend allowing users to input hindi text, view character/word limits, see output length, and display the generated summary in real time, demonstrating a complete end-to-end nlp workflow. extracurricular activities ● participated in the smart india hackathon 2024 as part of a 6-member team, developing the atwork mobile application — a geolocation-based attendance tracking system. ● tata data visualisation: empowering business with effective insights on forage. - january 2025 education 2022 - 2026 pillai college of engineering bachelor of engineering in information technology | cgpa - 7.0 ● key modules: machine intelligence, deep learning, data science, android development, os, dbms\n"
     ]
    }
   ],
   "source": [
    "import re\n",
    "\n",
    "def clean_text(text):\n",
    "    # Remove special characters and digits\n",
    "    text = re.sub(r\"\\s+\", \" \", text)\n",
    "    return text.strip().lower()\n",
    "\n",
    "resume_text = clean_text(resume_text)\n",
    "print(resume_text)"
   ]
  },
  {
   "cell_type": "code",
   "execution_count": 30,
   "id": "95ddbd9c",
   "metadata": {},
   "outputs": [],
   "source": [
    "# # Detect if the resume is image-based and extract text using OCR\n",
    "# def extract_text_from_image_pdf(pdf_path):\n",
    "#     images = convert_from_path(pdf_path)\n",
    "#     text = \"\"\n",
    "#     for image in images:\n",
    "#         text += pytesseract.image_to_string(image)\n",
    "#     return text"
   ]
  },
  {
   "cell_type": "code",
   "execution_count": 31,
   "id": "434fc551",
   "metadata": {},
   "outputs": [],
   "source": [
    "# Detect the email\n",
    "email_pattern = r\"[a-zA-Z0-9._%+-]+@[a-zA-Z0-9.-]+\\.[a-zA-Z]{2,}\"\n",
    "emails = re.findall(email_pattern, resume_text)"
   ]
  },
  {
   "cell_type": "code",
   "execution_count": 32,
   "id": "375db77c",
   "metadata": {},
   "outputs": [],
   "source": [
    "# Detect the phone number\n",
    "phone_pattern = r\"\\+?\\d[\\d -]{8,}\\d\"    \n",
    "phone = re.findall(phone_pattern, resume_text)"
   ]
  },
  {
   "cell_type": "code",
   "execution_count": 33,
   "id": "52e0782e",
   "metadata": {},
   "outputs": [
    {
     "name": "stdout",
     "output_type": "stream",
     "text": [
      "Email: []\n",
      "Phone ['+91 8451864346', '2022 - 2026']\n"
     ]
    }
   ],
   "source": [
    "print(\"Email:\", emails)\n",
    "print(\"Phone\", phone)"
   ]
  },
  {
   "cell_type": "code",
   "execution_count": 45,
   "id": "58b1c376",
   "metadata": {},
   "outputs": [
    {
     "name": "stdout",
     "output_type": "stream",
     "text": [
      "Sections Found: ['Education', 'Skills', 'Projects', 'Extracurricular Activities']\n"
     ]
    }
   ],
   "source": [
    "# Check for common sections\n",
    "sections = [\"Education\", \"Skills\", \"Experience\", \"Projects\", \"Certifications\", \"Extracurricular Activities\"]\n",
    "# Create an empty list to store found sections\n",
    "found_sections = []\n",
    "# found_sections = {sections: sections.lower() in resume_text for sections in sections}\n",
    "# print(\"Sections found:\", found_sections)\n",
    "\n",
    "# Iterate through each section and check if it's in the resume text\n",
    "for section in sections:\n",
    "    # Check case-insensitively if the lowercase version of the section is in the lowercase resume text\n",
    "    if section.lower() in resume_text.lower():\n",
    "        found_sections.append(section)\n",
    "\n",
    "print(\"Sections Found:\", found_sections)"
   ]
  },
  {
   "cell_type": "code",
   "execution_count": 46,
   "id": "fd452295",
   "metadata": {},
   "outputs": [
    {
     "name": "stdout",
     "output_type": "stream",
     "text": [
      "{'email': False, 'phone': True, 'has_experience': False, 'has_education': True, 'has_skills': True, 'has_projects': True, 'has_certifications': False, 'has_extracurricular_activities': True}\n"
     ]
    }
   ],
   "source": [
    "feaures = {\n",
    "    \"email\" : len(emails)>0,\n",
    "    \"phone\" : len(phone)>0,\n",
    "    \"has_experience\" : \"experience\" in resume_text,\n",
    "    \"has_education\": \"education\" in resume_text,\n",
    "    \"has_skills\": \"skills\" in resume_text,\n",
    "    \"has_projects\": \"projects\" in resume_text,\n",
    "    \"has_certifications\": \"certifications\" in resume_text,\n",
    "    \"has_extracurricular_activities\": \"extracurricular activities\" in resume_text\n",
    "}\n",
    "print(feaures)"
   ]
  },
  {
   "cell_type": "code",
   "execution_count": null,
   "id": "8667ebd7",
   "metadata": {},
   "outputs": [],
   "source": []
  }
 ],
 "metadata": {
  "kernelspec": {
   "display_name": "base",
   "language": "python",
   "name": "python3"
  },
  "language_info": {
   "codemirror_mode": {
    "name": "ipython",
    "version": 3
   },
   "file_extension": ".py",
   "mimetype": "text/x-python",
   "name": "python",
   "nbconvert_exporter": "python",
   "pygments_lexer": "ipython3",
   "version": "3.8.3"
  }
 },
 "nbformat": 4,
 "nbformat_minor": 5
}
